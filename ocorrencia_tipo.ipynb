{
 "cells": [
  {
   "cell_type": "markdown",
   "id": "infectious-documentation",
   "metadata": {},
   "source": [
    "# Base de dados de tipos de ocorrência"
   ]
  },
  {
   "cell_type": "markdown",
   "id": "exempt-convergence",
   "metadata": {},
   "source": [
    "#### Base contém informação relativa aos tipos de ocorrência"
   ]
  },
  {
   "cell_type": "markdown",
   "id": "mobile-pickup",
   "metadata": {},
   "source": [
    "## Importando pacotes e bases de dados"
   ]
  },
  {
   "cell_type": "code",
   "execution_count": 64,
   "id": "tribal-tiger",
   "metadata": {},
   "outputs": [],
   "source": [
    "#Importando pacotes\n",
    "import numpy as np\n",
    "import pandas as pd\n",
    "import seaborn as sns\n",
    "import matplotlib as mpl\n",
    "import matplotlib.pyplot as plt\n",
    "import random# Base de dados de aeronaves#### Base contém informação relativa à aeronaves envolvidas nas ocorrências"
   ]
  },
  {
   "cell_type": "code",
   "execution_count": 188,
   "id": "equal-priority",
   "metadata": {},
   "outputs": [
    {
     "data": {
      "text/plain": [
       "{'encoding': 'ISO-8859-1', 'confidence': 0.73, 'language': ''}"
      ]
     },
     "execution_count": 188,
     "metadata": {},
     "output_type": "execute_result"
    }
   ],
   "source": [
    "#verificando o tipo de encoding\n",
    "import chardet\n",
    "with open(\"ocorrencia_tipo.csv\", 'rb') as rawdata:\n",
    "    result = chardet.detect(rawdata.read(100000))\n",
    "result"
   ]
  },
  {
   "cell_type": "code",
   "execution_count": 189,
   "id": "insured-gathering",
   "metadata": {},
   "outputs": [],
   "source": [
    "#Importando a base de dados\n",
    "df_ocorrencia_tipo= pd.read_csv(\"ocorrencia_tipo.csv\", sep = ';', encoding='ISO-8859-1')\n",
    "#Importando a base de dados\n",
    "df_ocorrencia = pd.read_csv(\"ocorrencia_pos.csv\", sep = ',')\n",
    "df_ocorrencia_fator = pd.read_csv(\"ocorrencia_fator.csv\", sep = ',')\n",
    "df_oco_fator_av = pd.read_csv(\"oco_fator_av.csv\", sep = ',')"
   ]
  },
  {
   "cell_type": "code",
   "execution_count": 190,
   "id": "still-basics",
   "metadata": {},
   "outputs": [],
   "source": [
    "#removendo atributos não importantes\n",
    "df_ocorrencia_tipo = df_ocorrencia_tipo.drop(['ocorrencia_tipo_categoria','taxonomia_tipo_icao'],axis=1)"
   ]
  },
  {
   "cell_type": "markdown",
   "id": "executive-metro",
   "metadata": {},
   "source": [
    "## Exploração inicial da base"
   ]
  },
  {
   "cell_type": "code",
   "execution_count": 197,
   "id": "precious-african",
   "metadata": {},
   "outputs": [
    {
     "data": {
      "text/html": [
       "<div>\n",
       "<style scoped>\n",
       "    .dataframe tbody tr th:only-of-type {\n",
       "        vertical-align: middle;\n",
       "    }\n",
       "\n",
       "    .dataframe tbody tr th {\n",
       "        vertical-align: top;\n",
       "    }\n",
       "\n",
       "    .dataframe thead th {\n",
       "        text-align: right;\n",
       "    }\n",
       "</style>\n",
       "<table border=\"1\" class=\"dataframe\">\n",
       "  <thead>\n",
       "    <tr style=\"text-align: right;\">\n",
       "      <th></th>\n",
       "      <th>codigo_ocorrencia1</th>\n",
       "      <th>ocorrencia_tipo</th>\n",
       "    </tr>\n",
       "  </thead>\n",
       "  <tbody>\n",
       "    <tr>\n",
       "      <th>0</th>\n",
       "      <td>39115</td>\n",
       "      <td>PANE SECA</td>\n",
       "    </tr>\n",
       "    <tr>\n",
       "      <th>1</th>\n",
       "      <td>39155</td>\n",
       "      <td>VAZAMENTO DE COMBUSTÍVEL</td>\n",
       "    </tr>\n",
       "    <tr>\n",
       "      <th>2</th>\n",
       "      <td>39156</td>\n",
       "      <td>FOGO EM VOO</td>\n",
       "    </tr>\n",
       "    <tr>\n",
       "      <th>3</th>\n",
       "      <td>39158</td>\n",
       "      <td>SUPERAQUECIMENTO</td>\n",
       "    </tr>\n",
       "    <tr>\n",
       "      <th>4</th>\n",
       "      <td>39176</td>\n",
       "      <td>FALHA OU MAU FUNCIONAMENTO DE SISTEMA / COMPON...</td>\n",
       "    </tr>\n",
       "    <tr>\n",
       "      <th>...</th>\n",
       "      <td>...</td>\n",
       "      <td>...</td>\n",
       "    </tr>\n",
       "    <tr>\n",
       "      <th>5312</th>\n",
       "      <td>79117</td>\n",
       "      <td>INDETERMINADO</td>\n",
       "    </tr>\n",
       "    <tr>\n",
       "      <th>5313</th>\n",
       "      <td>79119</td>\n",
       "      <td>INDETERMINADO</td>\n",
       "    </tr>\n",
       "    <tr>\n",
       "      <th>5314</th>\n",
       "      <td>79123</td>\n",
       "      <td>INDETERMINADO</td>\n",
       "    </tr>\n",
       "    <tr>\n",
       "      <th>5315</th>\n",
       "      <td>79203</td>\n",
       "      <td>FALHA OU MAU FUNCIONAMENTO DE SISTEMA / COMPON...</td>\n",
       "    </tr>\n",
       "    <tr>\n",
       "      <th>5316</th>\n",
       "      <td>79227</td>\n",
       "      <td>OUTROS</td>\n",
       "    </tr>\n",
       "  </tbody>\n",
       "</table>\n",
       "<p>5317 rows × 2 columns</p>\n",
       "</div>"
      ],
      "text/plain": [
       "      codigo_ocorrencia1                                    ocorrencia_tipo\n",
       "0                  39115                                          PANE SECA\n",
       "1                  39155                           VAZAMENTO DE COMBUSTÍVEL\n",
       "2                  39156                                        FOGO EM VOO\n",
       "3                  39158                                   SUPERAQUECIMENTO\n",
       "4                  39176  FALHA OU MAU FUNCIONAMENTO DE SISTEMA / COMPON...\n",
       "...                  ...                                                ...\n",
       "5312               79117                                      INDETERMINADO\n",
       "5313               79119                                      INDETERMINADO\n",
       "5314               79123                                      INDETERMINADO\n",
       "5315               79203  FALHA OU MAU FUNCIONAMENTO DE SISTEMA / COMPON...\n",
       "5316               79227                                             OUTROS\n",
       "\n",
       "[5317 rows x 2 columns]"
      ]
     },
     "execution_count": 197,
     "metadata": {},
     "output_type": "execute_result"
    }
   ],
   "source": [
    "df_ocorrencia_tipo"
   ]
  },
  {
   "cell_type": "code",
   "execution_count": 191,
   "id": "alert-fundamental",
   "metadata": {},
   "outputs": [
    {
     "name": "stdout",
     "output_type": "stream",
     "text": [
      "['PANE SECA' 'VAZAMENTO DE COMBUSTÍVEL' 'FOGO EM VOO' 'SUPERAQUECIMENTO'\n",
      " 'FALHA OU MAU FUNCIONAMENTO DE SISTEMA / COMPONENTE'\n",
      " 'PERDA DE CONTROLE EM VOO' 'OUTROS' 'POUSO ANTES DA PISTA' 'POUSO BRUSCO'\n",
      " 'FALHA DO MOTOR EM VOO' 'COLISÃO COM AVE' 'PERDA DE CONTROLE NO SOLO'\n",
      " 'POUSO SEM TREM' 'OPERAÇÃO A BAIXA ALTITUDE' 'F.O.D.' 'COM TREM DE POUSO'\n",
      " 'COLISÃO COM OBSTÁCULO DURANTE A DECOLAGEM E POUSO'\n",
      " 'CAUSADO POR FENÔMENO METEOROLÓGICO EM VOO' 'ESTOURO DE PNEU'\n",
      " 'COLISÃO COM OBSTÁCULOS NO SOLO' 'COM PARA-BRISAS / JANELA / PORTA'\n",
      " 'PROBLEMAS FISIOLÓGICOS' 'EXCURSÃO DE PISTA' 'POUSO LONGO'\n",
      " 'TRÁFEGO AÉREO' 'FALHA DO MOTOR NO SOLO' 'POUSO EM LOCAL NÃO PREVISTO'\n",
      " 'VAZAMENTO DE OUTROS FLUIDOS' 'FOGO NO SOLO' 'INDETERMINADO'\n",
      " 'PERDA DE COMPONENTE NO SOLO' 'DESCOMPRESSÃO NÃO INTENCIONAL / EXPLOSIVA'\n",
      " 'SOPRO DE REATOR' 'PERDA DE COMPONENTE EM VOO' 'COM COMANDOS DE VOO'\n",
      " 'VOO CONTROLADO CONTRA O TERRENO' 'AERONAVE ATINGIDA POR OBJETO'\n",
      " 'ALARME FALSO DE FOGO OU DE SUPERAQUECIMENTO'\n",
      " 'COLISÃO COM AERONAVE NO SOLO' 'COM LANÇAMENTO DE CARGA' 'COM ROTOR'\n",
      " 'COM HÉLICE' 'FALHA ESTRUTURAL' 'CORTE INVOLUNTÁRIO DO MOTOR'\n",
      " 'COLISÃO DE AERONAVES EM VOO' 'SAÍDA DE PISTA' 'DESORIENTAÇÃO ESPACIAL'\n",
      " 'FUMAÇA NA CABINE' 'COM TRANSPORTE DE CARGA' 'COM PESSOAL EM VOO'\n",
      " 'COM LANÇAMENTO DE PESSOAS' 'CAUSADO POR FENÔMENO METEOROLÓGICO NO SOLO'\n",
      " 'SOPRO DE ROTOR' 'COLISÃO DE VEÍCULO COM AERONAVE' 'OPERAÇÕES NO SOLO'\n",
      " 'FORMAÇÃO DE GELO' 'COLISÃO COM FAUNA' 'MANOBRA ABRUPTA' 'HIPÓXIA'\n",
      " 'COMBUSTÍVEL' 'INCURSÃO EM PISTA' 'PERDA DA CONSCIÊNCIA'\n",
      " 'RELACIONADO COM SECURITY' 'CONTATO ANORMAL COM A PISTA'\n",
      " 'FALHA OU MAU FUNCIONAMENTO DO MOTOR' 'CORTANTE DE VENTO / TEMPESTADE'\n",
      " 'AERÓDROMO' 'TURBULÊNCIA' 'CAUSADO POR RICOCHETE'\n",
      " 'GERENCIAMENTO DE TRÁFEGO AÉREO (ATM) / SERVIÇO DE COMUNICAÇÃO NAVEGAÇÃO, OU VIGILÂNCIA (CNS)'\n",
      " 'IMC NÃO INTENCIONAL' 'POUSO AQUÉM/ALÉM DA PISTA'\n",
      " 'PERDA DE SEPARAÇÃO / COLISÃO EM VOO' 'EXPLOSÃO'\n",
      " 'FOGO/FUMAÇA (SEM IMPACTO)']\n",
      "75\n"
     ]
    }
   ],
   "source": [
    "print(df_ocorrencia_tipo['ocorrencia_tipo'].unique())\n",
    "print(len(df_ocorrencia_tipo['ocorrencia_tipo'].unique()))"
   ]
  },
  {
   "cell_type": "code",
   "execution_count": 192,
   "id": "cathedral-opinion",
   "metadata": {},
   "outputs": [],
   "source": [
    "#Selecionando apenas os 10 principais tipo e agrupamanto considerando a contagem\n",
    "tipo_ocorrencia = df_ocorrencia_tipo.groupby(['ocorrencia_tipo']).count().sort_values('codigo_ocorrencia1',ascending=False)[:10].reset_index()"
   ]
  },
  {
   "cell_type": "code",
   "execution_count": 193,
   "id": "offshore-chicken",
   "metadata": {},
   "outputs": [
    {
     "data": {
      "text/html": [
       "<div>\n",
       "<style scoped>\n",
       "    .dataframe tbody tr th:only-of-type {\n",
       "        vertical-align: middle;\n",
       "    }\n",
       "\n",
       "    .dataframe tbody tr th {\n",
       "        vertical-align: top;\n",
       "    }\n",
       "\n",
       "    .dataframe thead th {\n",
       "        text-align: right;\n",
       "    }\n",
       "</style>\n",
       "<table border=\"1\" class=\"dataframe\">\n",
       "  <thead>\n",
       "    <tr style=\"text-align: right;\">\n",
       "      <th></th>\n",
       "      <th>ocorrencia_tipo</th>\n",
       "      <th>codigo_ocorrencia1</th>\n",
       "    </tr>\n",
       "  </thead>\n",
       "  <tbody>\n",
       "    <tr>\n",
       "      <th>0</th>\n",
       "      <td>FALHA DO MOTOR EM VOO</td>\n",
       "      <td>633</td>\n",
       "    </tr>\n",
       "    <tr>\n",
       "      <th>1</th>\n",
       "      <td>ESTOURO DE PNEU</td>\n",
       "      <td>568</td>\n",
       "    </tr>\n",
       "    <tr>\n",
       "      <th>2</th>\n",
       "      <td>FALHA OU MAU FUNCIONAMENTO DE SISTEMA / COMPON...</td>\n",
       "      <td>540</td>\n",
       "    </tr>\n",
       "    <tr>\n",
       "      <th>3</th>\n",
       "      <td>PERDA DE CONTROLE NO SOLO</td>\n",
       "      <td>434</td>\n",
       "    </tr>\n",
       "    <tr>\n",
       "      <th>4</th>\n",
       "      <td>PERDA DE CONTROLE EM VOO</td>\n",
       "      <td>333</td>\n",
       "    </tr>\n",
       "    <tr>\n",
       "      <th>5</th>\n",
       "      <td>OUTROS</td>\n",
       "      <td>316</td>\n",
       "    </tr>\n",
       "    <tr>\n",
       "      <th>6</th>\n",
       "      <td>COM TREM DE POUSO</td>\n",
       "      <td>300</td>\n",
       "    </tr>\n",
       "    <tr>\n",
       "      <th>7</th>\n",
       "      <td>COLISÃO COM AVE</td>\n",
       "      <td>271</td>\n",
       "    </tr>\n",
       "    <tr>\n",
       "      <th>8</th>\n",
       "      <td>COLISÃO COM OBSTÁCULO DURANTE A DECOLAGEM E POUSO</td>\n",
       "      <td>168</td>\n",
       "    </tr>\n",
       "    <tr>\n",
       "      <th>9</th>\n",
       "      <td>TRÁFEGO AÉREO</td>\n",
       "      <td>120</td>\n",
       "    </tr>\n",
       "  </tbody>\n",
       "</table>\n",
       "</div>"
      ],
      "text/plain": [
       "                                     ocorrencia_tipo  codigo_ocorrencia1\n",
       "0                              FALHA DO MOTOR EM VOO                 633\n",
       "1                                    ESTOURO DE PNEU                 568\n",
       "2  FALHA OU MAU FUNCIONAMENTO DE SISTEMA / COMPON...                 540\n",
       "3                          PERDA DE CONTROLE NO SOLO                 434\n",
       "4                           PERDA DE CONTROLE EM VOO                 333\n",
       "5                                             OUTROS                 316\n",
       "6                                  COM TREM DE POUSO                 300\n",
       "7                                    COLISÃO COM AVE                 271\n",
       "8  COLISÃO COM OBSTÁCULO DURANTE A DECOLAGEM E POUSO                 168\n",
       "9                                      TRÁFEGO AÉREO                 120"
      ]
     },
     "execution_count": 193,
     "metadata": {},
     "output_type": "execute_result"
    }
   ],
   "source": [
    "tipo_ocorrencia"
   ]
  },
  {
   "cell_type": "code",
   "execution_count": 196,
   "id": "informal-pioneer",
   "metadata": {},
   "outputs": [
    {
     "data": {
      "image/png": "[encoded data removed]",
      "text/plain": [
       "<Figure size 1440x720 with 1 Axes>"
      ]
     },
     "metadata": {},
     "output_type": "display_data"
    }
   ],
   "source": [
    "#Distribuição dos tipos de ocorrência\n",
    "sns.set(font_scale = 3.5)\n",
    "sns_plot = sns.barplot(x=\"codigo_ocorrencia1\", y=\"ocorrencia_tipo\", data=tipo_ocorrencia, palette=\"ch:.25\")\n",
    "sns_plot.figure.set_size_inches(20, 10)\n",
    "sns_plot.set_ylabel(\"\")\n",
    "sns_plot.set_xlabel(\"Ocorrências\")\n",
    "sns_plot.figure.savefig(\"ocorrencia_tipo_tipo.png\", bbox_inches = 'tight')"
   ]
  },
  {
   "cell_type": "code",
   "execution_count": 85,
   "id": "sorted-walker",
   "metadata": {},
   "outputs": [
    {
     "data": {
      "text/html": [
       "<div>\n",
       "<style scoped>\n",
       "    .dataframe tbody tr th:only-of-type {\n",
       "        vertical-align: middle;\n",
       "    }\n",
       "\n",
       "    .dataframe tbody tr th {\n",
       "        vertical-align: top;\n",
       "    }\n",
       "\n",
       "    .dataframe thead th {\n",
       "        text-align: right;\n",
       "    }\n",
       "</style>\n",
       "<table border=\"1\" class=\"dataframe\">\n",
       "  <thead>\n",
       "    <tr style=\"text-align: right;\">\n",
       "      <th></th>\n",
       "      <th>codigo_ocorrencia1</th>\n",
       "      <th>ocorrencia_tipo</th>\n",
       "    </tr>\n",
       "  </thead>\n",
       "  <tbody>\n",
       "    <tr>\n",
       "      <th>0</th>\n",
       "      <td>39115</td>\n",
       "      <td>PANE SECA</td>\n",
       "    </tr>\n",
       "    <tr>\n",
       "      <th>1</th>\n",
       "      <td>39155</td>\n",
       "      <td>VAZAMENTO DE COMBUSTÍVEL</td>\n",
       "    </tr>\n",
       "    <tr>\n",
       "      <th>2</th>\n",
       "      <td>39156</td>\n",
       "      <td>FOGO EM VOO</td>\n",
       "    </tr>\n",
       "    <tr>\n",
       "      <th>3</th>\n",
       "      <td>39158</td>\n",
       "      <td>SUPERAQUECIMENTO</td>\n",
       "    </tr>\n",
       "    <tr>\n",
       "      <th>4</th>\n",
       "      <td>39176</td>\n",
       "      <td>FALHA OU MAU FUNCIONAMENTO DE SISTEMA / COMPON...</td>\n",
       "    </tr>\n",
       "    <tr>\n",
       "      <th>...</th>\n",
       "      <td>...</td>\n",
       "      <td>...</td>\n",
       "    </tr>\n",
       "    <tr>\n",
       "      <th>5312</th>\n",
       "      <td>79117</td>\n",
       "      <td>INDETERMINADO</td>\n",
       "    </tr>\n",
       "    <tr>\n",
       "      <th>5313</th>\n",
       "      <td>79119</td>\n",
       "      <td>INDETERMINADO</td>\n",
       "    </tr>\n",
       "    <tr>\n",
       "      <th>5314</th>\n",
       "      <td>79123</td>\n",
       "      <td>INDETERMINADO</td>\n",
       "    </tr>\n",
       "    <tr>\n",
       "      <th>5315</th>\n",
       "      <td>79203</td>\n",
       "      <td>FALHA OU MAU FUNCIONAMENTO DE SISTEMA / COMPON...</td>\n",
       "    </tr>\n",
       "    <tr>\n",
       "      <th>5316</th>\n",
       "      <td>79227</td>\n",
       "      <td>OUTROS</td>\n",
       "    </tr>\n",
       "  </tbody>\n",
       "</table>\n",
       "<p>5317 rows × 2 columns</p>\n",
       "</div>"
      ],
      "text/plain": [
       "      codigo_ocorrencia1                                    ocorrencia_tipo\n",
       "0                  39115                                          PANE SECA\n",
       "1                  39155                           VAZAMENTO DE COMBUSTÍVEL\n",
       "2                  39156                                        FOGO EM VOO\n",
       "3                  39158                                   SUPERAQUECIMENTO\n",
       "4                  39176  FALHA OU MAU FUNCIONAMENTO DE SISTEMA / COMPON...\n",
       "...                  ...                                                ...\n",
       "5312               79117                                      INDETERMINADO\n",
       "5313               79119                                      INDETERMINADO\n",
       "5314               79123                                      INDETERMINADO\n",
       "5315               79203  FALHA OU MAU FUNCIONAMENTO DE SISTEMA / COMPON...\n",
       "5316               79227                                             OUTROS\n",
       "\n",
       "[5317 rows x 2 columns]"
      ]
     },
     "execution_count": 85,
     "metadata": {},
     "output_type": "execute_result"
    }
   ],
   "source": [
    "df_ocorrencia_tipo"
   ]
  },
  {
   "cell_type": "markdown",
   "id": "faced-northeast",
   "metadata": {},
   "source": [
    "## Modelo de Classificação para prever dano"
   ]
  },
  {
   "cell_type": "markdown",
   "id": "international-click",
   "metadata": {},
   "source": [
    "### Unindo as bases de dados e selecioando atributos"
   ]
  },
  {
   "cell_type": "code",
   "execution_count": 243,
   "id": "operational-equality",
   "metadata": {},
   "outputs": [],
   "source": [
    "df_juntos = df_oco_fator_av.merge(df_ocorrencia_tipo)"
   ]
  },
  {
   "cell_type": "code",
   "execution_count": 246,
   "id": "arranged-review",
   "metadata": {},
   "outputs": [
    {
     "name": "stdout",
     "output_type": "stream",
     "text": [
      "51\n"
     ]
    },
    {
     "data": {
      "text/plain": [
       "Index(['Unnamed: 0', 'Unnamed: 0.1', 'codigo_ocorrencia', 'codigo_ocorrencia1',\n",
       "       'codigo_ocorrencia2', 'codigo_ocorrencia3', 'codigo_ocorrencia4',\n",
       "       'ocorrencia_classificacao', 'ocorrencia_latitude',\n",
       "       'ocorrencia_longitude', 'ocorrencia_cidade', 'ocorrencia_uf',\n",
       "       'ocorrencia_pais', 'ocorrencia_aerodromo', 'ocorrencia_dia',\n",
       "       'ocorrencia_hora', 'investigacao_aeronave_liberada',\n",
       "       'investigacao_status', 'divulgacao_relatorio_numero',\n",
       "       'divulgacao_relatorio_publicado', 'divulgacao_dia_publicacao',\n",
       "       'total_recomendacoes', 'total_aeronaves_envolvidas',\n",
       "       'ocorrencia_saida_pista', 'ano', 'fator_nome', 'total_fatores',\n",
       "       'fator_humano', 'fator_operacional', 'fator_material',\n",
       "       'fator_metereologico', 'fator_outro', 'aeronave_operador_categoria',\n",
       "       'aeronave_tipo_veiculo', 'aeronave_fabricante', 'aeronave_modelo',\n",
       "       'aeronave_tipo_icao', 'aeronave_motor_tipo',\n",
       "       'aeronave_motor_quantidade', 'aeronave_assentos',\n",
       "       'aeronave_ano_fabricacao', 'aeronave_pais_fabricante',\n",
       "       'aeronave_pais_registro', 'aeronave_registro_segmento',\n",
       "       'aeronave_voo_origem', 'aeronave_voo_destino', 'aeronave_fase_operacao',\n",
       "       'aeronave_tipo_operacao', 'aeronave_nivel_dano',\n",
       "       'aeronave_fatalidades_total', 'ocorrencia_tipo'],\n",
       "      dtype='object')"
      ]
     },
     "execution_count": 246,
     "metadata": {},
     "output_type": "execute_result"
    }
   ],
   "source": [
    "print(len(df_juntos.columns))\n",
    "df_juntos.columns"
   ]
  },
  {
   "cell_type": "code",
   "execution_count": 247,
   "id": "ultimate-controversy",
   "metadata": {},
   "outputs": [],
   "source": [
    "#removendo atributos que não irão contribuir para a classificação\n",
    "df_juntos = df_juntos.drop(['Unnamed: 0', 'Unnamed: 0.1', 'codigo_ocorrencia', 'codigo_ocorrencia1',\n",
    "       'codigo_ocorrencia2', 'codigo_ocorrencia3', 'codigo_ocorrencia4'],axis=1)\n",
    "df_juntos = df_juntos.drop(['ocorrencia_pais','ocorrencia_dia','ocorrencia_hora','investigacao_aeronave_liberada',\n",
    "               'aeronave_pais_fabricante','aeronave_pais_registro'],axis=1)\n",
    "df_juntos = df_juntos.drop(['divulgacao_relatorio_numero','ocorrencia_aerodromo','divulgacao_dia_publicacao',\n",
    "               'aeronave_voo_origem','aeronave_voo_destino'],axis=1)\n",
    "df_juntos = df_juntos.drop(['ocorrencia_cidade','ocorrencia_uf'],axis=1)\n",
    "df_juntos = df_juntos.drop(['aeronave_fabricante','aeronave_modelo','aeronave_tipo_icao',\n",
    "                           'aeronave_registro_segmento'],axis=1)\n",
    "df_juntos= df_juntos.drop(['fator_nome','divulgacao_relatorio_publicado','investigacao_status'],axis=1)\n",
    "df_juntos = df_juntos.drop(['ocorrencia_classificacao','ocorrencia_latitude','ocorrencia_longitude'],axis=1)\n",
    "df_juntos = df_juntos.drop(['aeronave_operador_categoria'],axis=1)"
   ]
  },
  {
   "cell_type": "code",
   "execution_count": 248,
   "id": "modern-pearl",
   "metadata": {},
   "outputs": [
    {
     "name": "stdout",
     "output_type": "stream",
     "text": [
      "20\n"
     ]
    },
    {
     "data": {
      "text/plain": [
       "Index(['total_recomendacoes', 'total_aeronaves_envolvidas',\n",
       "       'ocorrencia_saida_pista', 'ano', 'total_fatores', 'fator_humano',\n",
       "       'fator_operacional', 'fator_material', 'fator_metereologico',\n",
       "       'fator_outro', 'aeronave_tipo_veiculo', 'aeronave_motor_tipo',\n",
       "       'aeronave_motor_quantidade', 'aeronave_assentos',\n",
       "       'aeronave_ano_fabricacao', 'aeronave_fase_operacao',\n",
       "       'aeronave_tipo_operacao', 'aeronave_nivel_dano',\n",
       "       'aeronave_fatalidades_total', 'ocorrencia_tipo'],\n",
       "      dtype='object')"
      ]
     },
     "execution_count": 248,
     "metadata": {},
     "output_type": "execute_result"
    }
   ],
   "source": [
    "#atributos que restaram\n",
    "print(len(df_juntos.columns))\n",
    "df_juntos.columns"
   ]
  },
  {
   "cell_type": "code",
   "execution_count": 214,
   "id": "private-peeing",
   "metadata": {},
   "outputs": [],
   "source": [
    "#removendo valores faltantes\n",
    "for atributo in df_juntos.columns:\n",
    "    df_juntos = df_juntos[df_juntos[atributo]!='***'].dropna()"
   ]
  },
  {
   "cell_type": "code",
   "execution_count": 215,
   "id": "ruled-voltage",
   "metadata": {},
   "outputs": [],
   "source": [
    "#a classe que será prevista é o atributo 'aeronave_nivel_dano'\n",
    "classes = df_juntos['aeronave_nivel_dano'].unique()"
   ]
  },
  {
   "cell_type": "markdown",
   "id": "owned-gasoline",
   "metadata": {},
   "source": [
    "### Colocando a base no formato adequado para a classificação"
   ]
  },
  {
   "cell_type": "code",
   "execution_count": 216,
   "id": "interstate-defensive",
   "metadata": {},
   "outputs": [],
   "source": [
    "#função que transforma atributos categóricos em numéricos\n",
    "def categorical_to_numerical(df):\n",
    "    categorical_list = []\n",
    "    numerical_list = []\n",
    "    for column in df.columns:\n",
    "        if df[column].describe().dtype == 'O':\n",
    "            categorical_list.append(column)\n",
    "        else:\n",
    "            numerical_list.append(column)\n",
    "\n",
    "    categorical_dic = {}\n",
    "    for att in categorical_list:\n",
    "        categorical_dic[att] = {}\n",
    "        key = 0\n",
    "        for data in df[att].unique():\n",
    "            categorical_dic[att][data] = key\n",
    "            key += 1\n",
    "\n",
    "    for att in categorical_list:\n",
    "        df[att] = df[att].apply(lambda x: categorical_dic[att][x])\n",
    "    return categorical_dic"
   ]
  },
  {
   "cell_type": "code",
   "execution_count": 217,
   "id": "smart-orchestra",
   "metadata": {},
   "outputs": [
    {
     "name": "stdout",
     "output_type": "stream",
     "text": [
      "{'ocorrencia_saida_pista': {'NÃO': 0, 'SIM': 1}, 'aeronave_tipo_veiculo': {'AVIÃO': 0, 'HELICÓPTERO': 1, 'PLANADOR': 2, 'ANFÍBIO': 3, 'ULTRALEVE': 4}, 'aeronave_motor_tipo': {'PISTÃO': 0, 'TURBOÉLICE': 1, 'TURBOEIXO': 2, 'JATO': 3, 'SEM TRAÇÃO': 4}, 'aeronave_motor_quantidade': {'MONOMOTOR': 0, 'BIMOTOR': 1, 'SEM TRAÇÃO': 2, 'TRIMOTOR': 3}, 'aeronave_fase_operacao': {'DECOLAGEM': 0, 'ARREMETIDA NO AR': 1, 'CRUZEIRO': 2, 'POUSO': 3, 'DESCIDA': 4, 'SUBIDA': 5, 'ESPECIALIZADA': 6, 'OUTRA FASE': 7, 'VOO A BAIXA ALTURA': 8, 'CORRIDA APÓS POUSO': 9, 'PARTIDA DO MOTOR': 10, 'APROXIMAÇÃO FINAL': 11, 'MANOBRA': 12, 'RETA FINAL': 13, 'PAIRADO': 14, 'TÁXI': 15, 'CIRCUITO DE TRÁFEGO': 16, 'ARREMETIDA NO SOLO': 17, 'OPERAÇÃO DE SOLO': 18, 'INDETERMINADA': 19, 'ESTACIONAMENTO': 20, 'DECOLAGEM VERTICAL': 21, 'PROCEDIMENTO DE APROXIMAÇÃO IFR': 22}, 'aeronave_tipo_operacao': {'PRIVADA': 0, 'REGULAR': 1, 'AGRÍCOLA': 2, 'INSTRUÇÃO': 3, 'TÁXI AÉREO': 4, 'ESPECIALIZADA': 5, 'NÃO REGULAR': 6, 'POLICIAL': 7, 'EXPERIMENTAL': 8}, 'aeronave_nivel_dano': {'SUBSTANCIAL': 0, 'LEVE': 1, 'DESTRUÍDA': 2, 'NENHUM': 3}, 'ocorrencia_tipo': {'PANE SECA': 0, 'FOGO EM VOO': 1, 'PERDA DE CONTROLE EM VOO': 2, 'FALHA OU MAU FUNCIONAMENTO DE SISTEMA / COMPONENTE': 3, 'POUSO ANTES DA PISTA': 4, 'FALHA DO MOTOR EM VOO': 5, 'POUSO SEM TREM': 6, 'OPERAÇÃO A BAIXA ALTITUDE': 7, 'COM TREM DE POUSO': 8, 'COM PARA-BRISAS / JANELA / PORTA': 9, 'ESTOURO DE PNEU': 10, 'PROBLEMAS FISIOLÓGICOS': 11, 'COLISÃO COM OBSTÁCULO DURANTE A DECOLAGEM E POUSO': 12, 'EXCURSÃO DE PISTA': 13, 'PERDA DE CONTROLE NO SOLO': 14, 'POUSO LONGO': 15, 'POUSO EM LOCAL NÃO PREVISTO': 16, 'FOGO NO SOLO': 17, 'PERDA DE COMPONENTE NO SOLO': 18, 'VOO CONTROLADO CONTRA O TERRENO': 19, 'POUSO BRUSCO': 20, 'OUTROS': 21, 'COLISÃO COM AERONAVE NO SOLO': 22, 'COLISÃO COM AVE': 23, 'CAUSADO POR FENÔMENO METEOROLÓGICO EM VOO': 24, 'FALHA ESTRUTURAL': 25, 'COLISÃO COM OBSTÁCULOS NO SOLO': 26, 'SAÍDA DE PISTA': 27, 'COM TRANSPORTE DE CARGA': 28, 'COM COMANDOS DE VOO': 29, 'VAZAMENTO DE OUTROS FLUIDOS': 30, 'COLISÃO DE AERONAVES EM VOO': 31, 'COM ROTOR': 32, 'PERDA DE COMPONENTE EM VOO': 33, 'DESORIENTAÇÃO ESPACIAL': 34, 'TRÁFEGO AÉREO': 35, 'COM PESSOAL EM VOO': 36, 'COM HÉLICE': 37, 'COM LANÇAMENTO DE PESSOAS': 38, 'CAUSADO POR FENÔMENO METEOROLÓGICO NO SOLO': 39, 'OPERAÇÕES NO SOLO': 40, 'CORTE INVOLUNTÁRIO DO MOTOR': 41, 'COLISÃO COM FAUNA': 42, 'F.O.D.': 43, 'MANOBRA ABRUPTA': 44, 'INDETERMINADO': 45, 'INCURSÃO EM PISTA': 46, 'PERDA DA CONSCIÊNCIA': 47, 'FALHA DO MOTOR NO SOLO': 48, 'IMC NÃO INTENCIONAL': 49, 'CONTATO ANORMAL COM A PISTA': 50}}\n"
     ]
    },
    {
     "data": {
      "text/html": [
       "<div>\n",
       "<style scoped>\n",
       "    .dataframe tbody tr th:only-of-type {\n",
       "        vertical-align: middle;\n",
       "    }\n",
       "\n",
       "    .dataframe tbody tr th {\n",
       "        vertical-align: top;\n",
       "    }\n",
       "\n",
       "    .dataframe thead th {\n",
       "        text-align: right;\n",
       "    }\n",
       "</style>\n",
       "<table border=\"1\" class=\"dataframe\">\n",
       "  <thead>\n",
       "    <tr style=\"text-align: right;\">\n",
       "      <th></th>\n",
       "      <th>total_recomendacoes</th>\n",
       "      <th>total_aeronaves_envolvidas</th>\n",
       "      <th>ocorrencia_saida_pista</th>\n",
       "      <th>ano</th>\n",
       "      <th>total_fatores</th>\n",
       "      <th>fator_humano</th>\n",
       "      <th>fator_operacional</th>\n",
       "      <th>fator_material</th>\n",
       "      <th>fator_metereologico</th>\n",
       "      <th>fator_outro</th>\n",
       "      <th>aeronave_tipo_veiculo</th>\n",
       "      <th>aeronave_motor_tipo</th>\n",
       "      <th>aeronave_motor_quantidade</th>\n",
       "      <th>aeronave_assentos</th>\n",
       "      <th>aeronave_ano_fabricacao</th>\n",
       "      <th>aeronave_fase_operacao</th>\n",
       "      <th>aeronave_tipo_operacao</th>\n",
       "      <th>aeronave_nivel_dano</th>\n",
       "      <th>aeronave_fatalidades_total</th>\n",
       "      <th>ocorrencia_tipo</th>\n",
       "    </tr>\n",
       "  </thead>\n",
       "  <tbody>\n",
       "    <tr>\n",
       "      <th>0</th>\n",
       "      <td>2</td>\n",
       "      <td>1</td>\n",
       "      <td>0</td>\n",
       "      <td>2010</td>\n",
       "      <td>6</td>\n",
       "      <td>2</td>\n",
       "      <td>4</td>\n",
       "      <td>0</td>\n",
       "      <td>0</td>\n",
       "      <td>0</td>\n",
       "      <td>0</td>\n",
       "      <td>0</td>\n",
       "      <td>0</td>\n",
       "      <td>4.0</td>\n",
       "      <td>1979.0</td>\n",
       "      <td>0</td>\n",
       "      <td>0</td>\n",
       "      <td>0</td>\n",
       "      <td>0</td>\n",
       "      <td>0</td>\n",
       "    </tr>\n",
       "    <tr>\n",
       "      <th>1</th>\n",
       "      <td>2</td>\n",
       "      <td>1</td>\n",
       "      <td>0</td>\n",
       "      <td>2010</td>\n",
       "      <td>3</td>\n",
       "      <td>0</td>\n",
       "      <td>3</td>\n",
       "      <td>0</td>\n",
       "      <td>0</td>\n",
       "      <td>0</td>\n",
       "      <td>0</td>\n",
       "      <td>1</td>\n",
       "      <td>1</td>\n",
       "      <td>73.0</td>\n",
       "      <td>2008.0</td>\n",
       "      <td>1</td>\n",
       "      <td>1</td>\n",
       "      <td>1</td>\n",
       "      <td>0</td>\n",
       "      <td>1</td>\n",
       "    </tr>\n",
       "    <tr>\n",
       "      <th>2</th>\n",
       "      <td>3</td>\n",
       "      <td>1</td>\n",
       "      <td>0</td>\n",
       "      <td>2010</td>\n",
       "      <td>2</td>\n",
       "      <td>0</td>\n",
       "      <td>2</td>\n",
       "      <td>0</td>\n",
       "      <td>0</td>\n",
       "      <td>0</td>\n",
       "      <td>0</td>\n",
       "      <td>0</td>\n",
       "      <td>0</td>\n",
       "      <td>1.0</td>\n",
       "      <td>1976.0</td>\n",
       "      <td>0</td>\n",
       "      <td>2</td>\n",
       "      <td>2</td>\n",
       "      <td>1</td>\n",
       "      <td>2</td>\n",
       "    </tr>\n",
       "    <tr>\n",
       "      <th>3</th>\n",
       "      <td>3</td>\n",
       "      <td>1</td>\n",
       "      <td>0</td>\n",
       "      <td>2010</td>\n",
       "      <td>13</td>\n",
       "      <td>7</td>\n",
       "      <td>6</td>\n",
       "      <td>0</td>\n",
       "      <td>0</td>\n",
       "      <td>0</td>\n",
       "      <td>1</td>\n",
       "      <td>2</td>\n",
       "      <td>0</td>\n",
       "      <td>6.0</td>\n",
       "      <td>1994.0</td>\n",
       "      <td>2</td>\n",
       "      <td>0</td>\n",
       "      <td>2</td>\n",
       "      <td>1</td>\n",
       "      <td>3</td>\n",
       "    </tr>\n",
       "    <tr>\n",
       "      <th>5</th>\n",
       "      <td>2</td>\n",
       "      <td>1</td>\n",
       "      <td>0</td>\n",
       "      <td>2010</td>\n",
       "      <td>6</td>\n",
       "      <td>0</td>\n",
       "      <td>5</td>\n",
       "      <td>0</td>\n",
       "      <td>1</td>\n",
       "      <td>0</td>\n",
       "      <td>0</td>\n",
       "      <td>0</td>\n",
       "      <td>0</td>\n",
       "      <td>2.0</td>\n",
       "      <td>1992.0</td>\n",
       "      <td>3</td>\n",
       "      <td>3</td>\n",
       "      <td>0</td>\n",
       "      <td>0</td>\n",
       "      <td>4</td>\n",
       "    </tr>\n",
       "    <tr>\n",
       "      <th>...</th>\n",
       "      <td>...</td>\n",
       "      <td>...</td>\n",
       "      <td>...</td>\n",
       "      <td>...</td>\n",
       "      <td>...</td>\n",
       "      <td>...</td>\n",
       "      <td>...</td>\n",
       "      <td>...</td>\n",
       "      <td>...</td>\n",
       "      <td>...</td>\n",
       "      <td>...</td>\n",
       "      <td>...</td>\n",
       "      <td>...</td>\n",
       "      <td>...</td>\n",
       "      <td>...</td>\n",
       "      <td>...</td>\n",
       "      <td>...</td>\n",
       "      <td>...</td>\n",
       "      <td>...</td>\n",
       "      <td>...</td>\n",
       "    </tr>\n",
       "    <tr>\n",
       "      <th>991</th>\n",
       "      <td>1</td>\n",
       "      <td>1</td>\n",
       "      <td>0</td>\n",
       "      <td>2019</td>\n",
       "      <td>2</td>\n",
       "      <td>0</td>\n",
       "      <td>2</td>\n",
       "      <td>0</td>\n",
       "      <td>0</td>\n",
       "      <td>0</td>\n",
       "      <td>1</td>\n",
       "      <td>0</td>\n",
       "      <td>0</td>\n",
       "      <td>4.0</td>\n",
       "      <td>2009.0</td>\n",
       "      <td>12</td>\n",
       "      <td>2</td>\n",
       "      <td>0</td>\n",
       "      <td>0</td>\n",
       "      <td>7</td>\n",
       "    </tr>\n",
       "    <tr>\n",
       "      <th>992</th>\n",
       "      <td>1</td>\n",
       "      <td>1</td>\n",
       "      <td>0</td>\n",
       "      <td>2019</td>\n",
       "      <td>2</td>\n",
       "      <td>0</td>\n",
       "      <td>2</td>\n",
       "      <td>0</td>\n",
       "      <td>0</td>\n",
       "      <td>0</td>\n",
       "      <td>0</td>\n",
       "      <td>0</td>\n",
       "      <td>0</td>\n",
       "      <td>4.0</td>\n",
       "      <td>1977.0</td>\n",
       "      <td>3</td>\n",
       "      <td>0</td>\n",
       "      <td>0</td>\n",
       "      <td>0</td>\n",
       "      <td>20</td>\n",
       "    </tr>\n",
       "    <tr>\n",
       "      <th>993</th>\n",
       "      <td>0</td>\n",
       "      <td>1</td>\n",
       "      <td>0</td>\n",
       "      <td>2019</td>\n",
       "      <td>1</td>\n",
       "      <td>0</td>\n",
       "      <td>0</td>\n",
       "      <td>0</td>\n",
       "      <td>0</td>\n",
       "      <td>1</td>\n",
       "      <td>4</td>\n",
       "      <td>0</td>\n",
       "      <td>0</td>\n",
       "      <td>2.0</td>\n",
       "      <td>2011.0</td>\n",
       "      <td>5</td>\n",
       "      <td>8</td>\n",
       "      <td>0</td>\n",
       "      <td>0</td>\n",
       "      <td>5</td>\n",
       "    </tr>\n",
       "    <tr>\n",
       "      <th>994</th>\n",
       "      <td>0</td>\n",
       "      <td>1</td>\n",
       "      <td>1</td>\n",
       "      <td>2019</td>\n",
       "      <td>3</td>\n",
       "      <td>0</td>\n",
       "      <td>3</td>\n",
       "      <td>0</td>\n",
       "      <td>0</td>\n",
       "      <td>0</td>\n",
       "      <td>0</td>\n",
       "      <td>1</td>\n",
       "      <td>0</td>\n",
       "      <td>1.0</td>\n",
       "      <td>1998.0</td>\n",
       "      <td>3</td>\n",
       "      <td>2</td>\n",
       "      <td>0</td>\n",
       "      <td>0</td>\n",
       "      <td>50</td>\n",
       "    </tr>\n",
       "    <tr>\n",
       "      <th>995</th>\n",
       "      <td>0</td>\n",
       "      <td>1</td>\n",
       "      <td>1</td>\n",
       "      <td>2019</td>\n",
       "      <td>3</td>\n",
       "      <td>0</td>\n",
       "      <td>3</td>\n",
       "      <td>0</td>\n",
       "      <td>0</td>\n",
       "      <td>0</td>\n",
       "      <td>0</td>\n",
       "      <td>1</td>\n",
       "      <td>0</td>\n",
       "      <td>1.0</td>\n",
       "      <td>1998.0</td>\n",
       "      <td>3</td>\n",
       "      <td>2</td>\n",
       "      <td>0</td>\n",
       "      <td>0</td>\n",
       "      <td>13</td>\n",
       "    </tr>\n",
       "  </tbody>\n",
       "</table>\n",
       "<p>977 rows × 20 columns</p>\n",
       "</div>"
      ],
      "text/plain": [
       "     total_recomendacoes  total_aeronaves_envolvidas  ocorrencia_saida_pista  \\\n",
       "0                      2                           1                       0   \n",
       "1                      2                           1                       0   \n",
       "2                      3                           1                       0   \n",
       "3                      3                           1                       0   \n",
       "5                      2                           1                       0   \n",
       "..                   ...                         ...                     ...   \n",
       "991                    1                           1                       0   \n",
       "992                    1                           1                       0   \n",
       "993                    0                           1                       0   \n",
       "994                    0                           1                       1   \n",
       "995                    0                           1                       1   \n",
       "\n",
       "      ano  total_fatores  fator_humano  fator_operacional  fator_material  \\\n",
       "0    2010              6             2                  4               0   \n",
       "1    2010              3             0                  3               0   \n",
       "2    2010              2             0                  2               0   \n",
       "3    2010             13             7                  6               0   \n",
       "5    2010              6             0                  5               0   \n",
       "..    ...            ...           ...                ...             ...   \n",
       "991  2019              2             0                  2               0   \n",
       "992  2019              2             0                  2               0   \n",
       "993  2019              1             0                  0               0   \n",
       "994  2019              3             0                  3               0   \n",
       "995  2019              3             0                  3               0   \n",
       "\n",
       "     fator_metereologico  fator_outro  aeronave_tipo_veiculo  \\\n",
       "0                      0            0                      0   \n",
       "1                      0            0                      0   \n",
       "2                      0            0                      0   \n",
       "3                      0            0                      1   \n",
       "5                      1            0                      0   \n",
       "..                   ...          ...                    ...   \n",
       "991                    0            0                      1   \n",
       "992                    0            0                      0   \n",
       "993                    0            1                      4   \n",
       "994                    0            0                      0   \n",
       "995                    0            0                      0   \n",
       "\n",
       "     aeronave_motor_tipo  aeronave_motor_quantidade  aeronave_assentos  \\\n",
       "0                      0                          0                4.0   \n",
       "1                      1                          1               73.0   \n",
       "2                      0                          0                1.0   \n",
       "3                      2                          0                6.0   \n",
       "5                      0                          0                2.0   \n",
       "..                   ...                        ...                ...   \n",
       "991                    0                          0                4.0   \n",
       "992                    0                          0                4.0   \n",
       "993                    0                          0                2.0   \n",
       "994                    1                          0                1.0   \n",
       "995                    1                          0                1.0   \n",
       "\n",
       "     aeronave_ano_fabricacao  aeronave_fase_operacao  aeronave_tipo_operacao  \\\n",
       "0                     1979.0                       0                       0   \n",
       "1                     2008.0                       1                       1   \n",
       "2                     1976.0                       0                       2   \n",
       "3                     1994.0                       2                       0   \n",
       "5                     1992.0                       3                       3   \n",
       "..                       ...                     ...                     ...   \n",
       "991                   2009.0                      12                       2   \n",
       "992                   1977.0                       3                       0   \n",
       "993                   2011.0                       5                       8   \n",
       "994                   1998.0                       3                       2   \n",
       "995                   1998.0                       3                       2   \n",
       "\n",
       "     aeronave_nivel_dano  aeronave_fatalidades_total  ocorrencia_tipo  \n",
       "0                      0                           0                0  \n",
       "1                      1                           0                1  \n",
       "2                      2                           1                2  \n",
       "3                      2                           1                3  \n",
       "5                      0                           0                4  \n",
       "..                   ...                         ...              ...  \n",
       "991                    0                           0                7  \n",
       "992                    0                           0               20  \n",
       "993                    0                           0                5  \n",
       "994                    0                           0               50  \n",
       "995                    0                           0               13  \n",
       "\n",
       "[977 rows x 20 columns]"
      ]
     },
     "execution_count": 217,
     "metadata": {},
     "output_type": "execute_result"
    }
   ],
   "source": [
    "dic = categorical_to_numerical(df_juntos)\n",
    "print(dic)\n",
    "df_juntos"
   ]
  },
  {
   "cell_type": "code",
   "execution_count": 218,
   "id": "consistent-tumor",
   "metadata": {},
   "outputs": [],
   "source": [
    "X = df_juntos.drop(['aeronave_nivel_dano'],axis=1)\n",
    "y = df_juntos['aeronave_nivel_dano']"
   ]
  },
  {
   "cell_type": "markdown",
   "id": "marine-guide",
   "metadata": {},
   "source": [
    "### Treinamento dos modelos de classificação e processo de validação cruzada"
   ]
  },
  {
   "cell_type": "code",
   "execution_count": 235,
   "id": "breathing-relations",
   "metadata": {},
   "outputs": [],
   "source": [
    "#Árvore de decisão\n",
    "from sklearn.tree import DecisionTreeClassifier\n",
    "import time\n",
    "from sklearn.model_selection import cross_val_score\n",
    "from sklearn.model_selection import cross_val_score, StratifiedKFold\n",
    "from sklearn.model_selection import train_test_split\n",
    "from sklearn import preprocessing\n",
    "\n",
    "X_train, X_test, y_train, y_test = \\\n",
    "        train_test_split(X, y, test_size=.1, random_state=42, stratify=y)\n",
    "\n",
    "K_VALUE = 10\n",
    "seed = 7\n",
    "stratifiedKfold = StratifiedKFold(n_splits=K_VALUE, random_state=seed, shuffle=True)\n",
    "\n",
    "clf_list = []\n",
    "depth_list = []\n",
    "\n",
    "for i in range(1,30):\n",
    "  clf = DecisionTreeClassifier(max_depth=i)\n",
    "  clf_list.append(clf)\n",
    "  depth_list.append(i)\n",
    "\n",
    "scores_list = []\n",
    "time_list = []\n",
    "for clf in clf_list:\n",
    "  inicio = time.time()\n",
    "  scores = cross_val_score(clf, X_train, y_train, cv=stratifiedKfold)\n",
    "  scores_list.append(scores)\n",
    "  fim = time.time()\n",
    "  time_list.append(fim - inicio)\n",
    "\n",
    "scores_list = np.array(scores_list)\n",
    "mean_scores = scores_list.mean(axis=1)\n",
    "\n",
    "clf_best = clf_list[mean_scores.argmax()]\n",
    "\n",
    "clf_best.fit(X_train, y_train)\n",
    "score = clf_best.score(X_test, y_test)"
   ]
  },
  {
   "cell_type": "code",
   "execution_count": 236,
   "id": "material-aaron",
   "metadata": {},
   "outputs": [
    {
     "data": {
      "text/plain": [
       "0.7346938775510204"
      ]
     },
     "execution_count": 236,
     "metadata": {},
     "output_type": "execute_result"
    }
   ],
   "source": [
    "score"
   ]
  },
  {
   "cell_type": "code",
   "execution_count": 220,
   "id": "metropolitan-tyler",
   "metadata": {},
   "outputs": [
    {
     "data": {
      "text/plain": [
       "array([0.71670585, 0.72580982, 0.7257837 , 0.71329676, 0.70761494,\n",
       "       0.68373824, 0.68146552, 0.65414054, 0.66324451, 0.64619906,\n",
       "       0.62911442, 0.62344566, 0.59956897, 0.59497126, 0.59724399,\n",
       "       0.58478318, 0.58588036, 0.59042581, 0.57339342, 0.59728318,\n",
       "       0.57791275, 0.58928945, 0.58701672, 0.58932863, 0.58244514,\n",
       "       0.58475705, 0.59153605, 0.5869906 , 0.58928945])"
      ]
     },
     "execution_count": 220,
     "metadata": {},
     "output_type": "execute_result"
    }
   ],
   "source": [
    "mean_scores"
   ]
  },
  {
   "cell_type": "code",
   "execution_count": 227,
   "id": "grand-tower",
   "metadata": {},
   "outputs": [
    {
     "name": "stdout",
     "output_type": "stream",
     "text": [
      "Requirement already satisfied: graphviz in /home/rodrigo/.local/lib/python3.8/site-packages (0.16)\n",
      "0.7346938775510204\n"
     ]
    },
    {
     "data": {
      "text/plain": [
       "'dano.pdf'"
      ]
     },
     "execution_count": 227,
     "metadata": {},
     "output_type": "execute_result"
    }
   ],
   "source": [
    "#Gera a árvore de decisão\n",
    "!pip install graphviz\n",
    "import graphviz \n",
    "clf_list[2].fit(X_train, y_train)\n",
    "print(clf_list[2].score(X_test, y_test))\n",
    "dot_data = tree.export_graphviz(clf_list[2], out_file=None,feature_names=X.columns, \n",
    "                                class_names=classes, filled=True, rounded=True,  \n",
    "                                special_characters=True) \n",
    "graph = graphviz.Source(dot_data) \n",
    "graph.render(\"dano\") "
   ]
  },
  {
   "cell_type": "code",
   "execution_count": 240,
   "id": "advised-advantage",
   "metadata": {},
   "outputs": [],
   "source": [
    "#Random Forest\n",
    "from sklearn.ensemble import RandomForestClassifier\n",
    "import time\n",
    "from sklearn.model_selection import cross_val_score\n",
    "from sklearn.model_selection import cross_val_score, StratifiedKFold\n",
    "from sklearn.model_selection import train_test_split\n",
    "from sklearn import preprocessing\n",
    "\n",
    "X_train, X_test, y_train, y_test = \\\n",
    "        train_test_split(X, y, test_size=.1, random_state=42, stratify=y)\n",
    "\n",
    "K_VALUE = 10\n",
    "seed = 7\n",
    "stratifiedKfold = StratifiedKFold(n_splits=K_VALUE, random_state=seed, shuffle=True)\n",
    "\n",
    "clf = RandomForestClassifier()\n",
    "clf_list = []\n",
    "depth_list = []\n",
    "\n",
    "for i in range(1,20):\n",
    "  clf = RandomForestClassifier(max_depth=i)\n",
    "  clf_list.append(clf)\n",
    "  depth_list.append(i)\n",
    "\n",
    "scores_list = []\n",
    "time_list = []\n",
    "for clf in clf_list:\n",
    "  inicio = time.time()\n",
    "  scores = cross_val_score(clf, X_train, y_train, cv=stratifiedKfold)\n",
    "  scores_list.append(scores)\n",
    "  fim = time.time()\n",
    "  time_list.append(fim - inicio)\n",
    "\n",
    "scores_list = np.array(scores_list)\n",
    "mean_scores = scores_list.mean(axis=1)\n",
    "\n",
    "clf_best = clf_list[mean_scores.argmax()]\n",
    "\n",
    "clf_best.fit(X_train, y_train)\n",
    "score = clf_best.score(X_test, y_test)"
   ]
  },
  {
   "cell_type": "code",
   "execution_count": 241,
   "id": "laughing-handle",
   "metadata": {},
   "outputs": [
    {
     "data": {
      "text/plain": [
       "array([0.65642633, 0.66324451, 0.69281609, 0.71102403, 0.72924504,\n",
       "       0.72580982, 0.72809561, 0.72923197, 0.72234848, 0.73487461,\n",
       "       0.73942006, 0.73265413, 0.73949843, 0.74062173, 0.73722571,\n",
       "       0.73488767, 0.74516719, 0.74627743, 0.73834901])"
      ]
     },
     "execution_count": 241,
     "metadata": {},
     "output_type": "execute_result"
    }
   ],
   "source": [
    "mean_scores"
   ]
  },
  {
   "cell_type": "code",
   "execution_count": 242,
   "id": "absolute-robinson",
   "metadata": {},
   "outputs": [
    {
     "data": {
      "text/plain": [
       "0.7857142857142857"
      ]
     },
     "execution_count": 242,
     "metadata": {},
     "output_type": "execute_result"
    }
   ],
   "source": [
    "score"
   ]
  },
  {
   "cell_type": "code",
   "execution_count": null,
   "id": "american-least",
   "metadata": {},
   "outputs": [],
   "source": []
  }
 ],
 "metadata": {
  "kernelspec": {
   "display_name": "Python 3",
   "language": "python",
   "name": "python3"
  },
  "language_info": {
   "codemirror_mode": {
    "name": "ipython",
    "version": 3
   },
   "file_extension": ".py",
   "mimetype": "text/x-python",
   "name": "python",
   "nbconvert_exporter": "python",
   "pygments_lexer": "ipython3",
   "version": "3.8.5"
  }
 },
 "nbformat": 4,
 "nbformat_minor": 5
}
